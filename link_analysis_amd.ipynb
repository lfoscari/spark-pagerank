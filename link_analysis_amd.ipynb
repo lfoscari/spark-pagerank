{
  "cells": [
    {
      "cell_type": "code",
      "execution_count": null,
      "metadata": {
        "colab": {
          "base_uri": "https://localhost:8080/",
          "height": 419
        },
        "id": "5b9HvjyZATqE",
        "outputId": "486d6306-1e24-4e6d-f91c-2955f13471ef"
      },
      "outputs": [
        {
          "output_type": "display_data",
          "data": {
            "text/plain": [
              "<IPython.core.display.HTML object>"
            ],
            "text/html": [
              "\n",
              "     <input type=\"file\" id=\"files-a6bd22a8-b6b5-4e4d-9794-d4bbfcb4cc33\" name=\"files[]\" multiple disabled\n",
              "        style=\"border:none\" />\n",
              "     <output id=\"result-a6bd22a8-b6b5-4e4d-9794-d4bbfcb4cc33\">\n",
              "      Upload widget is only available when the cell has been executed in the\n",
              "      current browser session. Please rerun this cell to enable.\n",
              "      </output>\n",
              "      <script>// Copyright 2017 Google LLC\n",
              "//\n",
              "// Licensed under the Apache License, Version 2.0 (the \"License\");\n",
              "// you may not use this file except in compliance with the License.\n",
              "// You may obtain a copy of the License at\n",
              "//\n",
              "//      http://www.apache.org/licenses/LICENSE-2.0\n",
              "//\n",
              "// Unless required by applicable law or agreed to in writing, software\n",
              "// distributed under the License is distributed on an \"AS IS\" BASIS,\n",
              "// WITHOUT WARRANTIES OR CONDITIONS OF ANY KIND, either express or implied.\n",
              "// See the License for the specific language governing permissions and\n",
              "// limitations under the License.\n",
              "\n",
              "/**\n",
              " * @fileoverview Helpers for google.colab Python module.\n",
              " */\n",
              "(function(scope) {\n",
              "function span(text, styleAttributes = {}) {\n",
              "  const element = document.createElement('span');\n",
              "  element.textContent = text;\n",
              "  for (const key of Object.keys(styleAttributes)) {\n",
              "    element.style[key] = styleAttributes[key];\n",
              "  }\n",
              "  return element;\n",
              "}\n",
              "\n",
              "// Max number of bytes which will be uploaded at a time.\n",
              "const MAX_PAYLOAD_SIZE = 100 * 1024;\n",
              "\n",
              "function _uploadFiles(inputId, outputId) {\n",
              "  const steps = uploadFilesStep(inputId, outputId);\n",
              "  const outputElement = document.getElementById(outputId);\n",
              "  // Cache steps on the outputElement to make it available for the next call\n",
              "  // to uploadFilesContinue from Python.\n",
              "  outputElement.steps = steps;\n",
              "\n",
              "  return _uploadFilesContinue(outputId);\n",
              "}\n",
              "\n",
              "// This is roughly an async generator (not supported in the browser yet),\n",
              "// where there are multiple asynchronous steps and the Python side is going\n",
              "// to poll for completion of each step.\n",
              "// This uses a Promise to block the python side on completion of each step,\n",
              "// then passes the result of the previous step as the input to the next step.\n",
              "function _uploadFilesContinue(outputId) {\n",
              "  const outputElement = document.getElementById(outputId);\n",
              "  const steps = outputElement.steps;\n",
              "\n",
              "  const next = steps.next(outputElement.lastPromiseValue);\n",
              "  return Promise.resolve(next.value.promise).then((value) => {\n",
              "    // Cache the last promise value to make it available to the next\n",
              "    // step of the generator.\n",
              "    outputElement.lastPromiseValue = value;\n",
              "    return next.value.response;\n",
              "  });\n",
              "}\n",
              "\n",
              "/**\n",
              " * Generator function which is called between each async step of the upload\n",
              " * process.\n",
              " * @param {string} inputId Element ID of the input file picker element.\n",
              " * @param {string} outputId Element ID of the output display.\n",
              " * @return {!Iterable<!Object>} Iterable of next steps.\n",
              " */\n",
              "function* uploadFilesStep(inputId, outputId) {\n",
              "  const inputElement = document.getElementById(inputId);\n",
              "  inputElement.disabled = false;\n",
              "\n",
              "  const outputElement = document.getElementById(outputId);\n",
              "  outputElement.innerHTML = '';\n",
              "\n",
              "  const pickedPromise = new Promise((resolve) => {\n",
              "    inputElement.addEventListener('change', (e) => {\n",
              "      resolve(e.target.files);\n",
              "    });\n",
              "  });\n",
              "\n",
              "  const cancel = document.createElement('button');\n",
              "  inputElement.parentElement.appendChild(cancel);\n",
              "  cancel.textContent = 'Cancel upload';\n",
              "  const cancelPromise = new Promise((resolve) => {\n",
              "    cancel.onclick = () => {\n",
              "      resolve(null);\n",
              "    };\n",
              "  });\n",
              "\n",
              "  // Wait for the user to pick the files.\n",
              "  const files = yield {\n",
              "    promise: Promise.race([pickedPromise, cancelPromise]),\n",
              "    response: {\n",
              "      action: 'starting',\n",
              "    }\n",
              "  };\n",
              "\n",
              "  cancel.remove();\n",
              "\n",
              "  // Disable the input element since further picks are not allowed.\n",
              "  inputElement.disabled = true;\n",
              "\n",
              "  if (!files) {\n",
              "    return {\n",
              "      response: {\n",
              "        action: 'complete',\n",
              "      }\n",
              "    };\n",
              "  }\n",
              "\n",
              "  for (const file of files) {\n",
              "    const li = document.createElement('li');\n",
              "    li.append(span(file.name, {fontWeight: 'bold'}));\n",
              "    li.append(span(\n",
              "        `(${file.type || 'n/a'}) - ${file.size} bytes, ` +\n",
              "        `last modified: ${\n",
              "            file.lastModifiedDate ? file.lastModifiedDate.toLocaleDateString() :\n",
              "                                    'n/a'} - `));\n",
              "    const percent = span('0% done');\n",
              "    li.appendChild(percent);\n",
              "\n",
              "    outputElement.appendChild(li);\n",
              "\n",
              "    const fileDataPromise = new Promise((resolve) => {\n",
              "      const reader = new FileReader();\n",
              "      reader.onload = (e) => {\n",
              "        resolve(e.target.result);\n",
              "      };\n",
              "      reader.readAsArrayBuffer(file);\n",
              "    });\n",
              "    // Wait for the data to be ready.\n",
              "    let fileData = yield {\n",
              "      promise: fileDataPromise,\n",
              "      response: {\n",
              "        action: 'continue',\n",
              "      }\n",
              "    };\n",
              "\n",
              "    // Use a chunked sending to avoid message size limits. See b/62115660.\n",
              "    let position = 0;\n",
              "    do {\n",
              "      const length = Math.min(fileData.byteLength - position, MAX_PAYLOAD_SIZE);\n",
              "      const chunk = new Uint8Array(fileData, position, length);\n",
              "      position += length;\n",
              "\n",
              "      const base64 = btoa(String.fromCharCode.apply(null, chunk));\n",
              "      yield {\n",
              "        response: {\n",
              "          action: 'append',\n",
              "          file: file.name,\n",
              "          data: base64,\n",
              "        },\n",
              "      };\n",
              "\n",
              "      let percentDone = fileData.byteLength === 0 ?\n",
              "          100 :\n",
              "          Math.round((position / fileData.byteLength) * 100);\n",
              "      percent.textContent = `${percentDone}% done`;\n",
              "\n",
              "    } while (position < fileData.byteLength);\n",
              "  }\n",
              "\n",
              "  // All done.\n",
              "  yield {\n",
              "    response: {\n",
              "      action: 'complete',\n",
              "    }\n",
              "  };\n",
              "}\n",
              "\n",
              "scope.google = scope.google || {};\n",
              "scope.google.colab = scope.google.colab || {};\n",
              "scope.google.colab._files = {\n",
              "  _uploadFiles,\n",
              "  _uploadFilesContinue,\n",
              "};\n",
              "})(self);\n",
              "</script> "
            ]
          },
          "metadata": {}
        },
        {
          "output_type": "error",
          "ename": "KeyboardInterrupt",
          "evalue": "ignored",
          "traceback": [
            "\u001b[0;31m---------------------------------------------------------------------------\u001b[0m",
            "\u001b[0;31mKeyboardInterrupt\u001b[0m                         Traceback (most recent call last)",
            "\u001b[0;32m<ipython-input-55-859d68cd5d47>\u001b[0m in \u001b[0;36m<cell line: 3>\u001b[0;34m()\u001b[0m\n\u001b[1;32m      1\u001b[0m \u001b[0;32mfrom\u001b[0m \u001b[0mgoogle\u001b[0m\u001b[0;34m.\u001b[0m\u001b[0mcolab\u001b[0m \u001b[0;32mimport\u001b[0m \u001b[0mfiles\u001b[0m\u001b[0;34m\u001b[0m\u001b[0;34m\u001b[0m\u001b[0m\n\u001b[1;32m      2\u001b[0m \u001b[0;34m\u001b[0m\u001b[0m\n\u001b[0;32m----> 3\u001b[0;31m \u001b[0mfiles\u001b[0m\u001b[0;34m.\u001b[0m\u001b[0mupload\u001b[0m\u001b[0;34m(\u001b[0m\u001b[0;34m)\u001b[0m\u001b[0;34m\u001b[0m\u001b[0;34m\u001b[0m\u001b[0m\n\u001b[0m\u001b[1;32m      4\u001b[0m \u001b[0;34m\u001b[0m\u001b[0m\n\u001b[1;32m      5\u001b[0m \u001b[0;31m# The Kaggle API client expects this file to be in ~/.kaggle\u001b[0m\u001b[0;34m\u001b[0m\u001b[0;34m\u001b[0m\u001b[0m\n",
            "\u001b[0;32m/usr/local/lib/python3.10/dist-packages/google/colab/files.py\u001b[0m in \u001b[0;36mupload\u001b[0;34m()\u001b[0m\n\u001b[1;32m     67\u001b[0m   \"\"\"\n\u001b[1;32m     68\u001b[0m \u001b[0;34m\u001b[0m\u001b[0m\n\u001b[0;32m---> 69\u001b[0;31m   \u001b[0muploaded_files\u001b[0m \u001b[0;34m=\u001b[0m \u001b[0m_upload_files\u001b[0m\u001b[0;34m(\u001b[0m\u001b[0mmultiple\u001b[0m\u001b[0;34m=\u001b[0m\u001b[0;32mTrue\u001b[0m\u001b[0;34m)\u001b[0m\u001b[0;34m\u001b[0m\u001b[0;34m\u001b[0m\u001b[0m\n\u001b[0m\u001b[1;32m     70\u001b[0m   \u001b[0;31m# Mapping from original filename to filename as saved locally.\u001b[0m\u001b[0;34m\u001b[0m\u001b[0;34m\u001b[0m\u001b[0m\n\u001b[1;32m     71\u001b[0m   \u001b[0mlocal_filenames\u001b[0m \u001b[0;34m=\u001b[0m \u001b[0mdict\u001b[0m\u001b[0;34m(\u001b[0m\u001b[0;34m)\u001b[0m\u001b[0;34m\u001b[0m\u001b[0;34m\u001b[0m\u001b[0m\n",
            "\u001b[0;32m/usr/local/lib/python3.10/dist-packages/google/colab/files.py\u001b[0m in \u001b[0;36m_upload_files\u001b[0;34m(multiple)\u001b[0m\n\u001b[1;32m    151\u001b[0m \u001b[0;34m\u001b[0m\u001b[0m\n\u001b[1;32m    152\u001b[0m   \u001b[0;31m# First result is always an indication that the file picker has completed.\u001b[0m\u001b[0;34m\u001b[0m\u001b[0;34m\u001b[0m\u001b[0m\n\u001b[0;32m--> 153\u001b[0;31m   result = _output.eval_js(\n\u001b[0m\u001b[1;32m    154\u001b[0m       'google.colab._files._uploadFiles(\"{input_id}\", \"{output_id}\")'.format(\n\u001b[1;32m    155\u001b[0m           \u001b[0minput_id\u001b[0m\u001b[0;34m=\u001b[0m\u001b[0minput_id\u001b[0m\u001b[0;34m,\u001b[0m \u001b[0moutput_id\u001b[0m\u001b[0;34m=\u001b[0m\u001b[0moutput_id\u001b[0m\u001b[0;34m\u001b[0m\u001b[0;34m\u001b[0m\u001b[0m\n",
            "\u001b[0;32m/usr/local/lib/python3.10/dist-packages/google/colab/output/_js.py\u001b[0m in \u001b[0;36meval_js\u001b[0;34m(script, ignore_result, timeout_sec)\u001b[0m\n\u001b[1;32m     38\u001b[0m   \u001b[0;32mif\u001b[0m \u001b[0mignore_result\u001b[0m\u001b[0;34m:\u001b[0m\u001b[0;34m\u001b[0m\u001b[0;34m\u001b[0m\u001b[0m\n\u001b[1;32m     39\u001b[0m     \u001b[0;32mreturn\u001b[0m\u001b[0;34m\u001b[0m\u001b[0;34m\u001b[0m\u001b[0m\n\u001b[0;32m---> 40\u001b[0;31m   \u001b[0;32mreturn\u001b[0m \u001b[0m_message\u001b[0m\u001b[0;34m.\u001b[0m\u001b[0mread_reply_from_input\u001b[0m\u001b[0;34m(\u001b[0m\u001b[0mrequest_id\u001b[0m\u001b[0;34m,\u001b[0m \u001b[0mtimeout_sec\u001b[0m\u001b[0;34m)\u001b[0m\u001b[0;34m\u001b[0m\u001b[0;34m\u001b[0m\u001b[0m\n\u001b[0m\u001b[1;32m     41\u001b[0m \u001b[0;34m\u001b[0m\u001b[0m\n\u001b[1;32m     42\u001b[0m \u001b[0;34m\u001b[0m\u001b[0m\n",
            "\u001b[0;32m/usr/local/lib/python3.10/dist-packages/google/colab/_message.py\u001b[0m in \u001b[0;36mread_reply_from_input\u001b[0;34m(message_id, timeout_sec)\u001b[0m\n\u001b[1;32m     94\u001b[0m     \u001b[0mreply\u001b[0m \u001b[0;34m=\u001b[0m \u001b[0m_read_next_input_message\u001b[0m\u001b[0;34m(\u001b[0m\u001b[0;34m)\u001b[0m\u001b[0;34m\u001b[0m\u001b[0;34m\u001b[0m\u001b[0m\n\u001b[1;32m     95\u001b[0m     \u001b[0;32mif\u001b[0m \u001b[0mreply\u001b[0m \u001b[0;34m==\u001b[0m \u001b[0m_NOT_READY\u001b[0m \u001b[0;32mor\u001b[0m \u001b[0;32mnot\u001b[0m \u001b[0misinstance\u001b[0m\u001b[0;34m(\u001b[0m\u001b[0mreply\u001b[0m\u001b[0;34m,\u001b[0m \u001b[0mdict\u001b[0m\u001b[0;34m)\u001b[0m\u001b[0;34m:\u001b[0m\u001b[0;34m\u001b[0m\u001b[0;34m\u001b[0m\u001b[0m\n\u001b[0;32m---> 96\u001b[0;31m       \u001b[0mtime\u001b[0m\u001b[0;34m.\u001b[0m\u001b[0msleep\u001b[0m\u001b[0;34m(\u001b[0m\u001b[0;36m0.025\u001b[0m\u001b[0;34m)\u001b[0m\u001b[0;34m\u001b[0m\u001b[0;34m\u001b[0m\u001b[0m\n\u001b[0m\u001b[1;32m     97\u001b[0m       \u001b[0;32mcontinue\u001b[0m\u001b[0;34m\u001b[0m\u001b[0;34m\u001b[0m\u001b[0m\n\u001b[1;32m     98\u001b[0m     if (\n",
            "\u001b[0;31mKeyboardInterrupt\u001b[0m: "
          ]
        }
      ],
      "source": [
        "from google.colab import files\n",
        "\n",
        "# Load kaggle.json\n",
        "files.upload()\n",
        "!ls -lha kaggle.json"
      ],
      "id": "5b9HvjyZATqE"
    },
    {
      "cell_type": "code",
      "source": [
        "# Install Kaggle and Spark\n",
        "!pip install -q kaggle pyspark"
      ],
      "metadata": {
        "id": "OoUMIOo0jk7x",
        "colab": {
          "base_uri": "https://localhost:8080/"
        },
        "outputId": "a6fa4891-2330-4127-8cad-0a9e8c92c82b"
      },
      "id": "OoUMIOo0jk7x",
      "execution_count": 3,
      "outputs": [
        {
          "output_type": "stream",
          "name": "stdout",
          "text": [
            "\u001b[2K     \u001b[90m━━━━━━━━━━━━━━━━━━━━━━━━━━━━━━━━━━━━━━━\u001b[0m \u001b[32m310.8/310.8 MB\u001b[0m \u001b[31m4.3 MB/s\u001b[0m eta \u001b[36m0:00:00\u001b[0m\n",
            "\u001b[?25h  Preparing metadata (setup.py) ... \u001b[?25l\u001b[?25hdone\n",
            "  Building wheel for pyspark (setup.py) ... \u001b[?25l\u001b[?25hdone\n"
          ]
        }
      ]
    },
    {
      "cell_type": "code",
      "source": [
        "# The Kaggle API client expects this file to be in ~/.kaggle\n",
        "!mkdir -p ~/.kaggle\n",
        "!cp kaggle.json ~/.kaggle/\n",
        "\n",
        "# This permissions change avoids a warning on Kaggle tool startup\n",
        "!chmod 600 ~/.kaggle/kaggle.json"
      ],
      "metadata": {
        "id": "GNDn0l03jmlI"
      },
      "id": "GNDn0l03jmlI",
      "execution_count": null,
      "outputs": []
    },
    {
      "cell_type": "code",
      "execution_count": null,
      "metadata": {
        "id": "c3c341f3",
        "colab": {
          "base_uri": "https://localhost:8080/"
        },
        "outputId": "df291188-1413-4523-f01e-327f008605e8"
      },
      "outputs": [
        {
          "output_type": "stream",
          "name": "stdout",
          "text": [
            "Downloading yelp_academic_dataset_review.json.zip to /content\n",
            "100% 2.07G/2.07G [01:40<00:00, 17.4MB/s]\n",
            "100% 2.07G/2.07G [01:40<00:00, 22.0MB/s]\n",
            "Archive:  yelp_academic_dataset_review.json.zip\n",
            "  inflating: yelp_academic_dataset_review.json  \n",
            "Downloading yelp_academic_dataset_user.json.zip to /content\n",
            "100% 1.84G/1.84G [01:32<00:00, 28.5MB/s]\n",
            "100% 1.84G/1.84G [01:32<00:00, 21.4MB/s]\n",
            "Archive:  yelp_academic_dataset_user.json.zip\n",
            "  inflating: yelp_academic_dataset_user.json  \n"
          ]
        }
      ],
      "source": [
        "# Download and unpack the dataset\n",
        "!kaggle datasets download -f yelp_academic_dataset_review.json -d yelp-dataset/yelp-dataset\n",
        "!unzip -n yelp_academic_dataset_review.json.zip\n",
        "\n",
        "!kaggle datasets download -f yelp_academic_dataset_user.json -d yelp-dataset/yelp-dataset\n",
        "!unzip -n yelp_academic_dataset_user.json.zip"
      ],
      "id": "c3c341f3"
    },
    {
      "cell_type": "code",
      "execution_count": 4,
      "metadata": {
        "id": "6789682d"
      },
      "outputs": [],
      "source": [
        "import pyspark\n",
        "from pyspark.sql import functions as F\n",
        "from pyspark.sql import types as T\n",
        "from pyspark.mllib.linalg.distributed import *\n",
        "from pyspark.mllib.linalg import *\n",
        "from pyspark.accumulators import AccumulatorParam\n",
        "\n",
        "from matplotlib.backends.backend_pdf import PdfPages\n",
        "import matplotlib.pyplot as plt\n",
        "from scipy.stats import spearmanr\n",
        "from tabulate import tabulate\n",
        "from datetime import datetime\n",
        "from itertools import chain\n",
        "from operator import add, and_\n",
        "import numpy as np\n",
        "import pandas as pd\n",
        "from math import isclose\n",
        "import re, os\n",
        "import multiprocessing\n",
        "\n",
        "# Specify the amount of entires to load or None to retain all entries\n",
        "# This is used to test the implementation more quickly\n",
        "entries = 100_000"
      ],
      "id": "6789682d"
    },
    {
      "cell_type": "code",
      "execution_count": null,
      "metadata": {
        "id": "2b6e0828"
      },
      "outputs": [],
      "source": [
        "spark = pyspark.sql.SparkSession.builder \\\n",
        "    .master(\"local[*]\") \\\n",
        "    .appName(\"yelp-ranking\") \\\n",
        "    .getOrCreate()\n",
        "\n",
        "sc = spark.sparkContext"
      ],
      "id": "2b6e0828"
    },
    {
      "cell_type": "code",
      "execution_count": null,
      "metadata": {
        "id": "dZJFjL4ANjzI",
        "colab": {
          "base_uri": "https://localhost:8080/"
        },
        "outputId": "62a71ba8-c3df-4fdc-c1bd-194175f14421"
      },
      "outputs": [
        {
          "output_type": "stream",
          "name": "stdout",
          "text": [
            "root\n",
            " |-- business_id: string (nullable = true)\n",
            " |-- cool: long (nullable = true)\n",
            " |-- date: string (nullable = true)\n",
            " |-- funny: long (nullable = true)\n",
            " |-- review_id: string (nullable = true)\n",
            " |-- stars: double (nullable = true)\n",
            " |-- text: string (nullable = true)\n",
            " |-- useful: long (nullable = true)\n",
            " |-- user_id: string (nullable = true)\n",
            "\n"
          ]
        }
      ],
      "source": [
        "reviews = spark.read.json(\"yelp_academic_dataset_review.json\")\n",
        "if entries is not None: reviews = reviews.limit(entries)\n",
        "\n",
        "reviews.printSchema()"
      ],
      "id": "dZJFjL4ANjzI"
    },
    {
      "cell_type": "code",
      "execution_count": null,
      "metadata": {
        "id": "SXpxv2kjuDse",
        "colab": {
          "base_uri": "https://localhost:8080/"
        },
        "outputId": "dfcbbadc-3e82-4b9f-8966-ef7a5150c63a"
      },
      "outputs": [
        {
          "output_type": "execute_result",
          "data": {
            "text/plain": [
              "2"
            ]
          },
          "metadata": {},
          "execution_count": 12
        }
      ],
      "source": [
        "reviews = reviews.repartition(\"business_id\")\n",
        "reviews.rdd.getNumPartitions()"
      ],
      "id": "SXpxv2kjuDse"
    },
    {
      "cell_type": "code",
      "execution_count": null,
      "metadata": {
        "id": "PMN6Y32jShyw"
      },
      "outputs": [],
      "source": [
        "# Build tuples in the shape (user, user) for users having reviewed the same business\n",
        "\n",
        "# 1. Self-join the reviews on the business id\n",
        "userpairs = reviews.alias(\"a\").join(reviews.alias(\"b\"), F.col(\"a.business_id\") == F.col(\"b.business_id\"))\n",
        "\n",
        "# 2. Remove the pairs with the same user\n",
        "userpairs = userpairs.filter(F.col(\"a.user_id\") != F.col(\"b.user_id\"))\n",
        "\n",
        "# 3. Retain only the user ids\n",
        "userpairs = userpairs.select(F.col(\"a.user_id\"), F.col(\"b.user_id\")).distinct()\n",
        "\n"
      ],
      "id": "PMN6Y32jShyw"
    },
    {
      "cell_type": "code",
      "execution_count": null,
      "metadata": {
        "id": "3c4500a1",
        "colab": {
          "base_uri": "https://localhost:8080/"
        },
        "outputId": "dfc69ad1-6a48-4708-8b6a-794aa2f1844b"
      },
      "outputs": [
        {
          "output_type": "stream",
          "name": "stdout",
          "text": [
            "Total arcs: 6874736\n"
          ]
        }
      ],
      "source": [
        "# Build a map from each user to an integer id\n",
        "\n",
        "# 1. Extract all unique users\n",
        "users = userpairs.rdd.map(lambda u: u[1]).distinct()\n",
        "\n",
        "# 2. Add a unique identifier to each user\n",
        "users = users.zipWithIndex()\n",
        "\n",
        "# 3. Build { user -> id } map\n",
        "usermap = sc.broadcast(users.collectAsMap())\n",
        "\n",
        "# 4. Map both users to id\n",
        "arcs = userpairs.rdd.map(lambda u: (usermap.value[u[0]], usermap.value[u[1]]))\n",
        "\n",
        "print(\"Total arcs:\", arcs.count())"
      ],
      "id": "3c4500a1"
    },
    {
      "cell_type": "code",
      "execution_count": null,
      "metadata": {
        "id": "dvaD5SwkTF4s",
        "colab": {
          "base_uri": "https://localhost:8080/"
        },
        "outputId": "7d1a48d1-7dc8-41e5-87c7-96b0b333b73f"
      },
      "outputs": [
        {
          "output_type": "stream",
          "name": "stdout",
          "text": [
            "Total users: 77604\n"
          ]
        }
      ],
      "source": [
        "# Compute the total number of users\n",
        "n_users = usermap.value.get(max(usermap.value, key = usermap.value.get)) + 1\n",
        "\n",
        "print(\"Total users:\", n_users)"
      ],
      "id": "dvaD5SwkTF4s"
    },
    {
      "cell_type": "code",
      "execution_count": null,
      "metadata": {
        "id": "T0i1rF8DHJtd"
      },
      "outputs": [],
      "source": [
        "# In this variable we'll store the results for every ranking\n",
        "results = dict()\n",
        "\n",
        "def add_result(rank_name, ranking):\n",
        "    hvs = users.sortBy(lambda u: ranking[u[1]], False).take(5)\n",
        "    results[rank_name] = {\n",
        "        \"ranking\": np.copy(ranking),\n",
        "        \"heavyhitters\": [(hv[0], ranking[hv[1]]) for hv in hvs],\n",
        "    }"
      ],
      "id": "T0i1rF8DHJtd"
    },
    {
      "cell_type": "code",
      "execution_count": null,
      "metadata": {
        "id": "dfd925b5"
      },
      "outputs": [],
      "source": [
        "# Map users to integer ids using the precomputed map\n",
        "\n",
        "# All these joins are very spark-idiomatic, but terribly inefficient,\n",
        "# a minimal perfect hashing would perform much better\n",
        "\n",
        "# 1. Perform a join to map users to ids  u1 -> (u2, u1_id)\n",
        "# arcs = userpairs.join(users)\n",
        "\n",
        "# 2. Discard keys                        u2 -> u1_id\n",
        "# arcs = arcs.map(lambda x: x[1])\n",
        "\n",
        "# 3. Perform another join                u2 -> (u1_id, u2_id)\n",
        "# arcs = arcs.join(users)\n",
        "\n",
        "# 4. Discard keys                        u1_id -> u2_id\n",
        "# arcs = arcs.map(lambda x: x[1])\n",
        "\n",
        "# 5. Remove duplicates\n",
        "# arcs = arcs.distinct()\n",
        "\n",
        "# print(\"|{(u, v) | u and v reviewed the same business}| =\", arcs.count())"
      ],
      "id": "dfd925b5"
    },
    {
      "cell_type": "code",
      "execution_count": null,
      "metadata": {
        "id": "brjGrmjxNGPI"
      },
      "outputs": [],
      "source": [
        "def adjacency_rows(user, neighbours):\n",
        "    vector = SparseVector(n_users, neighbours, [1] * len(neighbours))\n",
        "    return user, vector\n",
        "\n",
        "rows = arcs.groupByKey().mapValues(sorted).map(lambda u: adjacency_rows(*u))\n",
        "M = IndexedRowMatrix(rows, n_users, n_users)"
      ],
      "id": "brjGrmjxNGPI"
    },
    {
      "cell_type": "code",
      "execution_count": null,
      "metadata": {
        "id": "npLHh6wPPIgb"
      },
      "outputs": [],
      "source": [
        "def normalize_row(row):\n",
        "    row.vector = SparseVector(n_users, row.vector.indices, [1 / len(row.vector.indices)] * len(row.vector.indices))\n",
        "    return row\n",
        "\n",
        "normalized_rows = M.rows.map(normalize_row)\n",
        "normalized_M = IndexedRowMatrix(normalized_rows, n_users, n_users)"
      ],
      "id": "npLHh6wPPIgb"
    },
    {
      "cell_type": "code",
      "execution_count": null,
      "metadata": {
        "id": "8aeddd45"
      },
      "outputs": [],
      "source": [
        "# Build the adjacency matrix as sparse matrix entries\n",
        "# (no need to create the inverse entry because the join automatically created the extra tuples)\n",
        "#M = CoordinateMatrix(arcs.map(lambda x: (*x, 1.)), n_users, n_users)"
      ],
      "id": "8aeddd45"
    },
    {
      "cell_type": "code",
      "execution_count": null,
      "metadata": {
        "id": "dfd3694a"
      },
      "outputs": [],
      "source": [
        "# Normalize the matrix in L1 norm\n",
        "\n",
        "# Normalize a row in L1 norm\n",
        "# Being the rows sparse boolean vectors, we can\n",
        "# simply divide by the number of non-zero elements\n",
        "#def normalize(row):\n",
        "#    vector = SparseVector(row.vector.size, row.vector.indices, row.vector.values / row.vector.values.size)\n",
        "#    return IndexedRow(row.index, vector)\n",
        "\n",
        "# We want to work on the rows\n",
        "# note: we switch to BlockMatrix temporarily because otherwise we'd loose the rows with all zeroes\n",
        "#normalized_rows = M.toIndexedRowMatrix().rows\n",
        "\n",
        "# Build new rows with the underlying vectors normalized in L1 norm\n",
        "#normalized_rows = normalized_rows.map(normalize)\n",
        "\n",
        "# Build the normalized matrix\n",
        "#normalized_M = IndexedRowMatrix(normalized_rows, n_users, n_users)"
      ],
      "id": "dfd3694a"
    },
    {
      "cell_type": "code",
      "execution_count": null,
      "metadata": {
        "id": "dd72c5ea",
        "colab": {
          "base_uri": "https://localhost:8080/",
          "height": 36
        },
        "outputId": "e66b23b6-ca75-486c-b778-1f5ec73bfe2b"
      },
      "outputs": [
        {
          "output_type": "execute_result",
          "data": {
            "text/plain": [
              "\"Don't Panic.\""
            ],
            "application/vnd.google.colaboratory.intrinsic+json": {
              "type": "string"
            }
          },
          "metadata": {},
          "execution_count": 22
        }
      ],
      "source": [
        "# Sanity check: the rows of the matrix should add to one\n",
        "# note: due to precision issues we are only checking that they are _close_ to 1\n",
        "\n",
        "normalized_M.rows.map(lambda row: isclose(row.vector.values.sum(), 1.)).reduce(and_) \\\n",
        "    and \"Don't Panic.\" or \"Panic.\""
      ],
      "id": "dd72c5ea"
    },
    {
      "cell_type": "code",
      "execution_count": null,
      "metadata": {
        "id": "zXLP7NN2XF_h"
      },
      "outputs": [],
      "source": [
        "# Transpose to compute the negative rank (incoming nodes)\n",
        "transposed_M = normalized_M.toCoordinateMatrix().transpose().toIndexedRowMatrix()"
      ],
      "id": "zXLP7NN2XF_h"
    },
    {
      "cell_type": "markdown",
      "metadata": {
        "id": "g1v78URkbej1"
      },
      "source": [
        "## Degree\n",
        "We compute the degree for every user in the graph, defined as the number of users who reviewed the same business. Being the graph symmetric the degree coincides with both the indegree and outdegree.\n",
        "\n"
      ],
      "id": "g1v78URkbej1"
    },
    {
      "cell_type": "code",
      "execution_count": null,
      "metadata": {
        "id": "LBmzKiCzDCAD"
      },
      "outputs": [],
      "source": [
        "class VectorAccumulator(AccumulatorParam):\n",
        "    def zero(self, other):\n",
        "        return np.zeros(other.size)\n",
        "    \n",
        "    def addInPlace(self, a, b):\n",
        "        a += b\n",
        "        return a"
      ],
      "id": "LBmzKiCzDCAD"
    },
    {
      "cell_type": "code",
      "execution_count": null,
      "metadata": {
        "id": "zMPkh3bIFWfX",
        "colab": {
          "base_uri": "https://localhost:8080/"
        },
        "outputId": "4a3bcec7-dc7a-4791-e3ed-8a498c2a51fd"
      },
      "outputs": [
        {
          "output_type": "stream",
          "name": "stdout",
          "text": [
            "CPU times: user 217 ms, sys: 20.4 ms, total: 237 ms\n",
            "Wall time: 27.9 s\n"
          ]
        }
      ],
      "source": [
        "%%time\n",
        "degree = sc.accumulator(np.zeros(n_users), VectorAccumulator())\n",
        "\n",
        "def update_degrees(rows, accumulator):\n",
        "    difference = np.zeros(n_users)\n",
        "    for row in rows: difference[row.index] = row.vector.indices.size\n",
        "    accumulator += difference\n",
        "\n",
        "M.rows.foreachPartition(lambda rows: update_degrees(rows, degree))"
      ],
      "id": "zMPkh3bIFWfX"
    },
    {
      "cell_type": "code",
      "execution_count": null,
      "metadata": {
        "id": "tWWtHjKbzjIm"
      },
      "outputs": [],
      "source": [
        "add_result(\"Degree\", degree.value)"
      ],
      "id": "tWWtHjKbzjIm"
    },
    {
      "cell_type": "markdown",
      "metadata": {
        "id": "Utz8oPD-DqVH"
      },
      "source": [
        "## PageRank"
      ],
      "id": "Utz8oPD-DqVH"
    },
    {
      "cell_type": "markdown",
      "metadata": {
        "id": "sOZwbB20cEjR"
      },
      "source": [
        "$$ \\begin{cases} v(0) = \\mathbf{1} \\frac{1}{n} \\\\ v(t + 1) = β M v(t) + (1 − β) \\mathbf{1} \\frac{1}{n} \\end{cases} $$\n",
        "where $n$ = `n_users` and $\\beta = 0.85$."
      ],
      "id": "sOZwbB20cEjR"
    },
    {
      "cell_type": "code",
      "execution_count": null,
      "metadata": {
        "id": "ec364e1f"
      },
      "outputs": [],
      "source": [
        "def pagerank(M, n, beta = 0.85, preference = None, tolerance = 10e-5, max_iterations = 100):\n",
        "    rank = np.ones(n) / n\n",
        "    preference = sc.broadcast((1 - beta) * \\\n",
        "        ((np.ones(n) / n) if preference is None else preference))\n",
        "\n",
        "    def rankupdate(vec):\n",
        "        def inner(row):\n",
        "            return row.index, row.vector.dot(vec)\n",
        "        return inner\n",
        "\n",
        "    for it in range(1, max_iterations):\n",
        "        # Compute the new page rank vector\n",
        "        update = M.rows.map(rankupdate(rank)).sortByKey().collect()\n",
        "        \n",
        "        # Random surfing\n",
        "        new_rank = beta * SparseVector(n, update).toArray() + preference.value\n",
        "        \n",
        "        # Compute change delta to identify a plateau\n",
        "        dist = np.linalg.norm(new_rank - rank)\n",
        "        \n",
        "        # Update page rank approximation\n",
        "        rank = new_rank\n",
        "\n",
        "        print(f\"{it}) dist: {dist}\")\n",
        "\n",
        "        if dist < tolerance:\n",
        "            print(\"close enough...\")\n",
        "            break\n",
        "    else:\n",
        "        print(\"!!! reached maximum iterations !!!\")\n",
        "\n",
        "    return rank"
      ],
      "id": "ec364e1f"
    },
    {
      "cell_type": "code",
      "execution_count": null,
      "metadata": {
        "id": "EJnO_c-HhTGU",
        "colab": {
          "base_uri": "https://localhost:8080/"
        },
        "outputId": "efebcce6-e28e-4483-b478-5eb43ca0178e"
      },
      "outputs": [
        {
          "output_type": "stream",
          "name": "stdout",
          "text": [
            "1) dist: 0.002044068864446376\n",
            "2) dist: 0.0004969894426284239\n",
            "3) dist: 0.0002159445959465798\n",
            "4) dist: 0.00015006366173088523\n",
            "5) dist: 0.00010638001437030201\n",
            "6) dist: 7.849815718623697e-05\n",
            "close enough...\n",
            "CPU times: user 4.73 s, sys: 814 ms, total: 5.54 s\n",
            "Wall time: 10min 5s\n"
          ]
        }
      ],
      "source": [
        "%%time\n",
        "pr = pagerank(transposed_M, n_users)"
      ],
      "id": "EJnO_c-HhTGU"
    },
    {
      "cell_type": "code",
      "execution_count": null,
      "metadata": {
        "id": "-RfPSdjgzmZh"
      },
      "outputs": [],
      "source": [
        "add_result(\"PageRank\", pr)"
      ],
      "id": "-RfPSdjgzmZh"
    },
    {
      "cell_type": "markdown",
      "metadata": {
        "id": "rmJM5q_NefMU"
      },
      "source": [
        "## Topic-sensitive PageRank\n",
        "\n",
        "Add a preference towards users who started *yelping* early. To do that we need information about the users, which we can gather from the `yelp_academic_dataset_user` dataset. Instead of a binary preference vector with the *preferred* users we'll define a real vector associating importance to each user."
      ],
      "id": "rmJM5q_NefMU"
    },
    {
      "cell_type": "code",
      "execution_count": null,
      "metadata": {
        "id": "2mG_hEsHjJex"
      },
      "outputs": [],
      "source": [
        "yelping = spark.read.json(\"yelp_academic_dataset_user.json\")"
      ],
      "id": "2mG_hEsHjJex"
    },
    {
      "cell_type": "code",
      "execution_count": null,
      "metadata": {
        "id": "NqT2PVSNh7rp"
      },
      "outputs": [],
      "source": [
        "# Remove unknown users\n",
        "filter_user = F.udf(lambda user_id: user_id in usermap.value, T.BooleanType())\n",
        "\n",
        "yelping = yelping \\\n",
        "    .filter(filter_user(yelping.user_id))"
      ],
      "id": "NqT2PVSNh7rp"
    },
    {
      "cell_type": "code",
      "execution_count": null,
      "metadata": {
        "id": "G23Ih4T5jsJm"
      },
      "outputs": [],
      "source": [
        "# Map users to their id\n",
        "translate_user = F.udf(lambda col: usermap.value.get(col), T.IntegerType())\n",
        "\n",
        "yelping = yelping \\\n",
        "    .withColumn(\"user_id\", translate_user(\"user_id\")) \\\n",
        "    .select(\"user_id\", \"useful\", \"funny\", \"cool\")"
      ],
      "id": "G23Ih4T5jsJm"
    },
    {
      "cell_type": "code",
      "execution_count": null,
      "metadata": {
        "id": "_YWEdZa4BJYI",
        "colab": {
          "base_uri": "https://localhost:8080/"
        },
        "outputId": "d3cfc950-a0fc-47fc-bdfb-25b0bb488555"
      },
      "outputs": [
        {
          "output_type": "execute_result",
          "data": {
            "text/plain": [
              "[[66.0], [16.0], [20.0]]"
            ]
          },
          "metadata": {},
          "execution_count": 33
        }
      ],
      "source": [
        "# Compute the 80-th percentile for the three review columns\n",
        "quantiles = yelping.approxQuantile([\"useful\", \"funny\", \"cool\"], [0.8], 0.1)\n",
        "quantiles "
      ],
      "id": "_YWEdZa4BJYI"
    },
    {
      "cell_type": "code",
      "execution_count": null,
      "metadata": {
        "id": "8FHcDXaAC-eH"
      },
      "outputs": [],
      "source": [
        "class BoolVectorAccumulator(AccumulatorParam):\n",
        "    def zero(self, other):\n",
        "        return np.full(other.size, False)\n",
        "    \n",
        "    def addInPlace(self, a, b):\n",
        "        a = a | b\n",
        "        return a"
      ],
      "id": "8FHcDXaAC-eH"
    },
    {
      "cell_type": "code",
      "execution_count": null,
      "metadata": {
        "id": "P5vrFDnMCp9C",
        "colab": {
          "base_uri": "https://localhost:8080/"
        },
        "outputId": "90872cdb-dea4-46c6-a0aa-7acbafd667ff"
      },
      "outputs": [
        {
          "output_type": "stream",
          "name": "stdout",
          "text": [
            "CPU times: user 347 ms, sys: 45.5 ms, total: 393 ms\n",
            "Wall time: 41.8 s\n"
          ]
        },
        {
          "output_type": "execute_result",
          "data": {
            "text/plain": [
              "(Accumulator<id=1, value=[False False False ... False False  True]>,\n",
              " Accumulator<id=2, value=[False False False ... False False  True]>,\n",
              " Accumulator<id=3, value=[False False False ... False False  True]>)"
            ]
          },
          "metadata": {},
          "execution_count": 35
        }
      ],
      "source": [
        "%%time\n",
        "\n",
        "# Build binary vectors with the users above the 80-th percentile for each category\n",
        "\n",
        "useful = sc.accumulator(np.full(n_users, False), BoolVectorAccumulator())\n",
        "funny = sc.accumulator(np.full(n_users, False), BoolVectorAccumulator())\n",
        "cool = sc.accumulator(np.full(n_users, False), BoolVectorAccumulator())\n",
        "\n",
        "def update_categories(partition, useful, funny, cool, quantiles):\n",
        "    useful_d = np.full(n_users, False)\n",
        "    funny_d = np.full(n_users, False)\n",
        "    cool_d = np.full(n_users, False)\n",
        "\n",
        "    for row in partition:\n",
        "        useful_d[row.user_id] = row.useful >= quantiles[0][0]\n",
        "        funny_d[row.user_id] = row.funny >= quantiles[1][0]\n",
        "        cool_d[row.user_id] = row.cool >= quantiles[2][0]\n",
        "\n",
        "    useful += useful_d\n",
        "    funny += funny_d\n",
        "    cool += cool_d\n",
        "\n",
        "yelping.foreachPartition(lambda p: update_categories(p, useful, funny, cool, quantiles))\n",
        "useful, funny, cool"
      ],
      "id": "P5vrFDnMCp9C"
    },
    {
      "cell_type": "code",
      "execution_count": null,
      "metadata": {
        "id": "Ve2sWY7dEftw"
      },
      "outputs": [],
      "source": [
        "# Normalize the preference vectors\n",
        "\n",
        "useful = useful.value / useful.value.sum()\n",
        "funny = funny.value / funny.value.sum()\n",
        "cool = cool.value / cool.value.sum()"
      ],
      "id": "Ve2sWY7dEftw"
    },
    {
      "cell_type": "code",
      "execution_count": null,
      "metadata": {
        "id": "1cWCNsYf0swy",
        "colab": {
          "base_uri": "https://localhost:8080/"
        },
        "outputId": "2d6ce0f7-d6d5-47ec-f8e3-347c1d63df49"
      },
      "outputs": [
        {
          "output_type": "stream",
          "name": "stdout",
          "text": [
            "1) dist: 0.0025015901398436824\n",
            "2) dist: 0.0006205311354268815\n",
            "3) dist: 0.0003398253632691729\n",
            "4) dist: 0.0002516344318073528\n",
            "5) dist: 0.00019208742377962364\n",
            "6) dist: 0.00015011033900161626\n",
            "7) dist: 0.0001194643672799424\n",
            "8) dist: 9.584565683788466e-05\n",
            "close enough...\n",
            "CPU times: user 5.69 s, sys: 1.15 s, total: 6.84 s\n",
            "Wall time: 12min 16s\n"
          ]
        }
      ],
      "source": [
        "%%time\n",
        "tspr = pagerank(transposed_M, n_users, preference = np.copy(useful))"
      ],
      "id": "1cWCNsYf0swy"
    },
    {
      "cell_type": "code",
      "execution_count": null,
      "metadata": {
        "id": "HEPqzddSzqBi"
      },
      "outputs": [],
      "source": [
        "add_result(\"TsPR (useful)\", tspr)"
      ],
      "id": "HEPqzddSzqBi"
    },
    {
      "cell_type": "code",
      "execution_count": null,
      "metadata": {
        "id": "1Jfx0l_lzqIv",
        "colab": {
          "base_uri": "https://localhost:8080/"
        },
        "outputId": "8cc543a9-c0b3-4a3f-801d-949d8bef8884"
      },
      "outputs": [
        {
          "output_type": "stream",
          "name": "stdout",
          "text": [
            "1) dist: 0.002501212454905288\n",
            "2) dist: 0.0006229021712459834\n",
            "3) dist: 0.0003448222903472278\n",
            "4) dist: 0.00025652609950849517\n",
            "5) dist: 0.00019639665449947948\n",
            "6) dist: 0.00015403736065393994\n",
            "7) dist: 0.00012276796650418528\n",
            "8) dist: 9.877950342302763e-05\n",
            "close enough...\n",
            "CPU times: user 5.39 s, sys: 1.2 s, total: 6.59 s\n",
            "Wall time: 12min 1s\n"
          ]
        }
      ],
      "source": [
        "%%time\n",
        "tspr = pagerank(transposed_M, n_users, preference = np.copy(funny))"
      ],
      "id": "1Jfx0l_lzqIv"
    },
    {
      "cell_type": "code",
      "execution_count": null,
      "metadata": {
        "id": "LsYdLqiMzqMy"
      },
      "outputs": [],
      "source": [
        "add_result(\"TsPR (funny)\", tspr)"
      ],
      "id": "LsYdLqiMzqMy"
    },
    {
      "cell_type": "code",
      "execution_count": null,
      "metadata": {
        "id": "z2n2ChLjzqSh",
        "colab": {
          "base_uri": "https://localhost:8080/"
        },
        "outputId": "90e71867-7a3e-4635-8868-7b31d1a60781"
      },
      "outputs": [
        {
          "output_type": "stream",
          "name": "stdout",
          "text": [
            "1) dist: 0.002503457910434264\n",
            "2) dist: 0.0006271947510122003\n",
            "3) dist: 0.0003449721311987024\n",
            "4) dist: 0.00025602581401911844\n",
            "5) dist: 0.00019532270613642787\n",
            "6) dist: 0.00015299840059865237\n",
            "7) dist: 0.0001215712248555906\n",
            "8) dist: 9.779859852742916e-05\n",
            "close enough...\n",
            "CPU times: user 5.38 s, sys: 1.02 s, total: 6.4 s\n",
            "Wall time: 11min 56s\n"
          ]
        }
      ],
      "source": [
        "%%time\n",
        "tspr = pagerank(transposed_M, n_users, preference = np.copy(cool))"
      ],
      "id": "z2n2ChLjzqSh"
    },
    {
      "cell_type": "code",
      "execution_count": null,
      "metadata": {
        "id": "2ge6QAlDzqXi"
      },
      "outputs": [],
      "source": [
        "add_result(\"TsPR (cool)\", tspr)"
      ],
      "id": "2ge6QAlDzqXi"
    },
    {
      "cell_type": "markdown",
      "metadata": {
        "id": "cgI8W4qSB71z"
      },
      "source": [
        "## HITS\n",
        "We are computing the ranking as hubs and authorities for each user.\n",
        "\n",
        "note: being the relationship symmetric the two rankings coincide."
      ],
      "id": "cgI8W4qSB71z"
    },
    {
      "cell_type": "code",
      "execution_count": null,
      "metadata": {
        "id": "DML_TPV2CQ7Z"
      },
      "outputs": [],
      "source": [
        "def hits(L, L_t, n, max_iterations = 100, tolerance = 10e-5):\n",
        "    auth = np.ones(n)\n",
        "    hub = np.ones(n)\n",
        "\n",
        "    def hub_step(auth):\n",
        "        updated = L.rows.map(lambda row: (row.index, row.vector.dot(auth))).collect()\n",
        "        return SparseVector(n, updated).toArray()\n",
        "\n",
        "    def auth_step(hub):\n",
        "        updated = L_t.rows.map(lambda row: (row.index, row.vector.dot(hub))).collect()\n",
        "        return SparseVector(n, updated).toArray()\n",
        "\n",
        "    for it in range(1, max_iterations):\n",
        "        new_hub = hub_step(auth)\n",
        "        new_hub /= np.linalg.norm(new_hub)\n",
        "\n",
        "        dist_hub = np.linalg.norm(new_hub - hub)\n",
        "        hub = new_hub\n",
        "\n",
        "        new_auth = auth_step(hub)\n",
        "        new_auth /= np.linalg.norm(new_auth)\n",
        "\n",
        "        dist_auth = np.linalg.norm(new_auth - auth)\n",
        "        auth = new_auth\n",
        "\n",
        "        print(f\"{it}) dist: [hub] {dist_hub} [auth] {dist_auth}\")\n",
        "\n",
        "        if max(dist_hub, dist_auth) < tolerance:\n",
        "            print(\"close enough...\")\n",
        "            break\n",
        "    else:\n",
        "        print(\"!!! reached maximum iterations !!!\")\n",
        "\n",
        "    return hub, auth"
      ],
      "id": "DML_TPV2CQ7Z"
    },
    {
      "cell_type": "code",
      "execution_count": null,
      "metadata": {
        "id": "e4a45TEwH6mn",
        "colab": {
          "base_uri": "https://localhost:8080/"
        },
        "outputId": "8e36474f-8586-4746-cc02-751bfb21f25a"
      },
      "outputs": [
        {
          "output_type": "stream",
          "name": "stdout",
          "text": [
            "1) dist: [hub] 278.0557072116904 [auth] 278.31839707958187\n",
            "2) dist: [hub] 0.7194933299402343 [auth] 0.3109962739291187\n",
            "3) dist: [hub] 0.1262405672385407 [auth] 0.053040787682742306\n",
            "4) dist: [hub] 0.023031222186044035 [auth] 0.010230341210282237\n",
            "5) dist: [hub] 0.004614629906340047 [auth] 0.0021038230411458254\n",
            "6) dist: [hub] 0.000966482814388003 [auth] 0.00044651221897403886\n",
            "7) dist: [hub] 0.00020718189855930687 [auth] 9.646141974418976e-05\n",
            "8) dist: [hub] 4.503584490789756e-05 [auth] 2.107467819518528e-05\n",
            "close enough...\n",
            "CPU times: user 6.46 s, sys: 1.62 s, total: 8.08 s\n",
            "Wall time: 8min 9s\n"
          ]
        }
      ],
      "source": [
        "%%time\n",
        "hub, auth = hits(M, M.toCoordinateMatrix().transpose().toIndexedRowMatrix(), n_users)"
      ],
      "id": "e4a45TEwH6mn"
    },
    {
      "cell_type": "code",
      "execution_count": null,
      "metadata": {
        "id": "MTsbym2vz1Eb"
      },
      "outputs": [],
      "source": [
        "add_result(\"HITS (hub)\", hub)\n",
        "add_result(\"HITS (auth)\", auth)"
      ],
      "id": "MTsbym2vz1Eb"
    },
    {
      "cell_type": "markdown",
      "metadata": {
        "id": "glke5_xQc15P"
      },
      "source": [
        "## Results"
      ],
      "id": "glke5_xQc15P"
    },
    {
      "cell_type": "code",
      "source": [
        "!mkdir plots"
      ],
      "metadata": {
        "id": "oI6OxP8RsO-S"
      },
      "id": "oI6OxP8RsO-S",
      "execution_count": 15,
      "outputs": []
    },
    {
      "cell_type": "code",
      "execution_count": null,
      "metadata": {
        "id": "YLcwuuL6Tb5u",
        "colab": {
          "base_uri": "https://localhost:8080/",
          "height": 449
        },
        "outputId": "7e8f6a49-0fdb-402b-f573-09269c66b47d"
      },
      "outputs": [
        {
          "output_type": "display_data",
          "data": {
            "text/plain": [
              "<Figure size 640x480 with 1 Axes>"
            ],
            "image/png": "[encoded data removed]"
          },
          "metadata": {}
        }
      ],
      "source": [
        "pp = PdfPages('plots/degree.pdf')\n",
        "\n",
        "ax = plt.subplot()\n",
        "counts, bins = np.histogram(results[\"Degree\"][\"ranking\"], bins=100)\n",
        "ax.scatter(bins[:-1], counts, marker=\".\")\n",
        "ax.set_yscale(\"log\")\n",
        "plt.xlabel(\"degree\")\n",
        "plt.ylabel(\"frequency\")\n",
        "\n",
        "pp.savefig()\n",
        "pp.close()\n",
        "plt.show()"
      ],
      "id": "YLcwuuL6Tb5u"
    },
    {
      "cell_type": "code",
      "execution_count": null,
      "metadata": {
        "id": "A2xP4aj-TmgM",
        "colab": {
          "base_uri": "https://localhost:8080/",
          "height": 449
        },
        "outputId": "71cd7a3b-4d6e-4ee4-8c92-d9ba0cd50084"
      },
      "outputs": [
        {
          "output_type": "display_data",
          "data": {
            "text/plain": [
              "<Figure size 640x480 with 1 Axes>"
            ],
            "image/png": "[encoded data removed]"
          },
          "metadata": {}
        }
      ],
      "source": [
        "pp = PdfPages('plots/pagerank.pdf')\n",
        "\n",
        "ax = plt.subplot()\n",
        "counts, bins = np.histogram(results[\"PageRank\"][\"ranking\"], bins=100)\n",
        "ax.scatter(bins[:-1], counts, marker=\".\")\n",
        "ax.set_yscale(\"log\")\n",
        "ax.ticklabel_format(axis=\"x\", scilimits=(0,0))\n",
        "plt.xlabel(\"pagerank\")\n",
        "plt.ylabel(\"frequency\")\n",
        "\n",
        "pp.savefig()\n",
        "pp.close()\n",
        "plt.show()"
      ],
      "id": "A2xP4aj-TmgM"
    },
    {
      "cell_type": "code",
      "execution_count": null,
      "metadata": {
        "id": "Ul67W0uRTuw6",
        "colab": {
          "base_uri": "https://localhost:8080/",
          "height": 449
        },
        "outputId": "b832c223-657a-407d-95d4-404e351a45bd"
      },
      "outputs": [
        {
          "output_type": "display_data",
          "data": {
            "text/plain": [
              "<Figure size 640x480 with 1 Axes>"
            ],
            "image/png": "[encoded data removed]"
          },
          "metadata": {}
        }
      ],
      "source": [
        "pp = PdfPages('plots/tspr-useful.pdf')\n",
        "\n",
        "ax = plt.subplot()\n",
        "counts, bins = np.histogram(results[\"TsPR (useful)\"][\"ranking\"], bins=100)\n",
        "ax.scatter(bins[:-1], counts, marker=\".\")\n",
        "ax.set_yscale(\"log\")\n",
        "ax.ticklabel_format(axis=\"x\", scilimits=(0,0))\n",
        "plt.xlabel(\"TsPR (useful)\")\n",
        "plt.ylabel(\"frequency\")\n",
        "\n",
        "pp.savefig()\n",
        "pp.close()\n",
        "plt.show()"
      ],
      "id": "Ul67W0uRTuw6"
    },
    {
      "cell_type": "code",
      "execution_count": null,
      "metadata": {
        "id": "kMTzRYJXT1BK",
        "colab": {
          "base_uri": "https://localhost:8080/",
          "height": 449
        },
        "outputId": "dc14013b-8329-4d29-ec56-6d6779aaaac8"
      },
      "outputs": [
        {
          "output_type": "display_data",
          "data": {
            "text/plain": [
              "<Figure size 640x480 with 1 Axes>"
            ],
            "image/png": "[encoded data removed]"
          },
          "metadata": {}
        }
      ],
      "source": [
        "pp = PdfPages('plots/tspr-funny.pdf')\n",
        "\n",
        "ax = plt.subplot()\n",
        "counts, bins = np.histogram(results[\"TsPR (funny)\"][\"ranking\"], bins=100)\n",
        "ax.scatter(bins[:-1], counts, marker=\".\")\n",
        "ax.set_yscale(\"log\")\n",
        "ax.ticklabel_format(axis=\"x\", scilimits=(0,0))\n",
        "plt.xlabel(\"TsPR (funny)\")\n",
        "plt.ylabel(\"frequency\")\n",
        "\n",
        "pp.savefig()\n",
        "pp.close()\n",
        "plt.show()"
      ],
      "id": "kMTzRYJXT1BK"
    },
    {
      "cell_type": "code",
      "execution_count": null,
      "metadata": {
        "id": "gsqii3EZT6rM",
        "colab": {
          "base_uri": "https://localhost:8080/",
          "height": 449
        },
        "outputId": "043db3e0-2d96-40d5-a936-2fda9b4cb582"
      },
      "outputs": [
        {
          "output_type": "display_data",
          "data": {
            "text/plain": [
              "<Figure size 640x480 with 1 Axes>"
            ],
            "image/png": "[encoded data removed]"
          },
          "metadata": {}
        }
      ],
      "source": [
        "pp = PdfPages('plots/tspr-cool.pdf')\n",
        "\n",
        "ax = plt.subplot()\n",
        "counts, bins = np.histogram(results[\"TsPR (cool)\"][\"ranking\"], bins=100)\n",
        "ax.scatter(bins[:-1], counts, marker=\".\")\n",
        "ax.set_yscale(\"log\")\n",
        "ax.ticklabel_format(axis=\"x\", scilimits=(0,0))\n",
        "plt.xlabel(\"TsPR (cool)\")\n",
        "plt.ylabel(\"frequency\")\n",
        "\n",
        "pp.savefig()\n",
        "pp.close()\n",
        "plt.show()"
      ],
      "id": "gsqii3EZT6rM"
    },
    {
      "cell_type": "code",
      "execution_count": null,
      "metadata": {
        "id": "BL0P5zIHUAgn",
        "colab": {
          "base_uri": "https://localhost:8080/",
          "height": 449
        },
        "outputId": "b1097798-6674-47d7-e4b0-3d0bfde8cc4e"
      },
      "outputs": [
        {
          "output_type": "display_data",
          "data": {
            "text/plain": [
              "<Figure size 640x480 with 1 Axes>"
            ],
            "image/png": "[encoded data removed]"
          },
          "metadata": {}
        }
      ],
      "source": [
        "pp = PdfPages('plots/hits-hub.pdf')\n",
        "\n",
        "ax = plt.subplot()\n",
        "filter = (results[\"HITS (hub)\"][\"ranking\"] > np.percentile(results[\"HITS (hub)\"][\"ranking\"], 10)) & \\\n",
        "         (results[\"HITS (hub)\"][\"ranking\"] < np.percentile(results[\"HITS (hub)\"][\"ranking\"], 90))\n",
        "counts, bins = np.histogram(results[\"HITS (hub)\"][\"ranking\"][filter], bins=100)\n",
        "ax.scatter(bins[:-1], counts, marker=\".\")\n",
        "ax.set_yscale(\"log\")\n",
        "ax.ticklabel_format(axis=\"x\", scilimits=(0,0))\n",
        "plt.xlabel(\"HITS (hub)\")\n",
        "plt.ylabel(\"frequency\")\n",
        "\n",
        "pp.savefig()\n",
        "pp.close()\n",
        "plt.show()"
      ],
      "id": "BL0P5zIHUAgn"
    },
    {
      "cell_type": "code",
      "execution_count": null,
      "metadata": {
        "id": "ZyLCi5ziUFy-",
        "colab": {
          "base_uri": "https://localhost:8080/",
          "height": 449
        },
        "outputId": "55c99487-69a0-47a1-ac19-65f55b7f1466"
      },
      "outputs": [
        {
          "output_type": "display_data",
          "data": {
            "text/plain": [
              "<Figure size 640x480 with 1 Axes>"
            ],
            "image/png": "[encoded data removed]"
          },
          "metadata": {}
        }
      ],
      "source": [
        "pp = PdfPages('plots/hits-auth.pdf')\n",
        "\n",
        "ax = plt.subplot()\n",
        "filter = (results[\"HITS (auth)\"][\"ranking\"] > np.percentile(results[\"HITS (auth)\"][\"ranking\"], 10)) & \\\n",
        "         (results[\"HITS (auth)\"][\"ranking\"] < np.percentile(results[\"HITS (auth)\"][\"ranking\"], 90))\n",
        "counts, bins = np.histogram(results[\"HITS (auth)\"][\"ranking\"][filter], bins=100)\n",
        "ax.scatter(bins[:-1], counts, marker=\".\")\n",
        "ax.set_yscale(\"log\")\n",
        "ax.ticklabel_format(axis=\"x\", scilimits=(0,0))\n",
        "plt.xlabel(\"HITS (auth)\")\n",
        "plt.ylabel(\"frequency\")\n",
        "\n",
        "pp.savefig()\n",
        "pp.close()\n",
        "plt.show()"
      ],
      "id": "ZyLCi5ziUFy-"
    },
    {
      "cell_type": "code",
      "source": [
        "!zip plots.zip plots/*"
      ],
      "metadata": {
        "colab": {
          "base_uri": "https://localhost:8080/"
        },
        "id": "Hr5xbAgisiDH",
        "outputId": "39d52ca4-917f-475e-a7e7-fb54cde7d8a2"
      },
      "id": "Hr5xbAgisiDH",
      "execution_count": null,
      "outputs": [
        {
          "output_type": "stream",
          "name": "stdout",
          "text": [
            "updating: plots/degree.pdf (deflated 30%)\n",
            "updating: plots/hits-auth.pdf (deflated 32%)\n",
            "updating: plots/hits-hub.pdf (deflated 32%)\n",
            "updating: plots/pagerank.pdf (deflated 31%)\n",
            "updating: plots/tspr-cool.pdf (deflated 32%)\n",
            "updating: plots/tspr-funny.pdf (deflated 32%)\n",
            "updating: plots/tspr-useful.pdf (deflated 33%)\n"
          ]
        }
      ]
    },
    {
      "cell_type": "code",
      "execution_count": null,
      "metadata": {
        "id": "ECHfgtkOc2o0",
        "colab": {
          "base_uri": "https://localhost:8080/"
        },
        "outputId": "49378afe-2271-4e98-e42c-617fb9b713a8"
      },
      "outputs": [
        {
          "output_type": "stream",
          "name": "stdout",
          "text": [
            "Degree:\n",
            "01. CfX4sTIFFNaRchNswqhVfg [rank 1911.00000]\n",
            "02. tNq35k92WAkSLSqeof03hg [rank 1824.00000]\n",
            "03. hmVE7u0Nt45j5sZCH9j_YQ [rank 1801.00000]\n",
            "04. LO_YM_4kdAkRgf2wz1Kacw [rank 1707.00000]\n",
            "05. xqS2PjKu16g2cFDBNgJ8Ng [rank 1591.00000]\n",
            "\n",
            "PageRank:\n",
            "01. _BcWyKQL16ndpBdggh2kNA [rank 0.00026]\n",
            "02. Xw7ZjaGfr0WNVt6s_5KZfA [rank 0.00019]\n",
            "03. 1HM81n6n4iPIFU5d2Lokhw [rank 0.00016]\n",
            "04. mzL0zHFGyd9866OUljq49g [rank 0.00015]\n",
            "05. ouODopBKF3AqfCkuQEnrDg [rank 0.00014]\n",
            "\n",
            "HITS (hub):\n",
            "01. LO_YM_4kdAkRgf2wz1Kacw [rank 0.03308]\n",
            "02. hmVE7u0Nt45j5sZCH9j_YQ [rank 0.03299]\n",
            "03. tNq35k92WAkSLSqeof03hg [rank 0.03295]\n",
            "04. CfX4sTIFFNaRchNswqhVfg [rank 0.03292]\n",
            "05. bdIueXy-Sc0DfqzXbm9AEg [rank 0.03290]\n",
            "\n",
            "HITS (auth):\n",
            "01. LO_YM_4kdAkRgf2wz1Kacw [rank 0.03308]\n",
            "02. hmVE7u0Nt45j5sZCH9j_YQ [rank 0.03299]\n",
            "03. tNq35k92WAkSLSqeof03hg [rank 0.03295]\n",
            "04. CfX4sTIFFNaRchNswqhVfg [rank 0.03292]\n",
            "05. bdIueXy-Sc0DfqzXbm9AEg [rank 0.03290]\n",
            "\n",
            "TsPR (funny):\n",
            "01. _BcWyKQL16ndpBdggh2kNA [rank 0.00028]\n",
            "02. 1HM81n6n4iPIFU5d2Lokhw [rank 0.00019]\n",
            "03. mzL0zHFGyd9866OUljq49g [rank 0.00019]\n",
            "04. Xw7ZjaGfr0WNVt6s_5KZfA [rank 0.00019]\n",
            "05. Hxx8FmhpxiugIrGRh8RDOg [rank 0.00016]\n",
            "\n",
            "TsPR (cool):\n",
            "01. _BcWyKQL16ndpBdggh2kNA [rank 0.00027]\n",
            "02. mzL0zHFGyd9866OUljq49g [rank 0.00018]\n",
            "03. Xw7ZjaGfr0WNVt6s_5KZfA [rank 0.00018]\n",
            "04. 1HM81n6n4iPIFU5d2Lokhw [rank 0.00018]\n",
            "05. 2iS1vg5TYpV_iEiNC8osTg [rank 0.00016]\n",
            "\n",
            "TsPR (useful):\n",
            "01. _BcWyKQL16ndpBdggh2kNA [rank 0.00028]\n",
            "02. mzL0zHFGyd9866OUljq49g [rank 0.00018]\n",
            "03. 1HM81n6n4iPIFU5d2Lokhw [rank 0.00018]\n",
            "04. Xw7ZjaGfr0WNVt6s_5KZfA [rank 0.00018]\n",
            "05. Hxx8FmhpxiugIrGRh8RDOg [rank 0.00016]\n",
            "\n"
          ]
        }
      ],
      "source": [
        "for rank, data in results.items():\n",
        "    print(f\"{rank}:\")\n",
        "    for index, hv in enumerate(data[\"heavyhitters\"]):\n",
        "        print(f\"{index+1:02d}. {hv[0]} [rank {hv[1]:0.5f}]\")\n",
        "    print()"
      ],
      "id": "ECHfgtkOc2o0"
    },
    {
      "cell_type": "code",
      "source": [
        "hv = [[\"\\\\texttt{\" + hv[0][:5].replace('_', '\\_') + \"}\" for hv in data[\"heavyhitters\"]] for rank, data in results.items()]\n",
        "hv.insert(0, list(range(1, len(results[\"PageRank\"][\"heavyhitters\"]) + 1)))\n",
        "hv = list(map(list, zip(*hv)))\n",
        "print(tabulate(hv, results.keys(), tablefmt=\"latex_raw\", floatfmt=\".4f\"))"
      ],
      "metadata": {
        "colab": {
          "base_uri": "https://localhost:8080/"
        },
        "id": "IMtSwTNzUvs6",
        "outputId": "c50283b0-56af-4337-8d6f-c3122b8217f7"
      },
      "id": "IMtSwTNzUvs6",
      "execution_count": null,
      "outputs": [
        {
          "output_type": "stream",
          "name": "stdout",
          "text": [
            "\\begin{tabular}{rlllllll}\n",
            "\\hline\n",
            "    & Degree          & PageRank        & HITS (hub)      & HITS (auth)     & TsPR (funny)    & TsPR (cool)     & TsPR (useful)   \\\\\n",
            "\\hline\n",
            "  1 & \\texttt{CfX4s}  & \\texttt{\\_BcWy} & \\texttt{LO\\_YM} & \\texttt{LO\\_YM} & \\texttt{\\_BcWy} & \\texttt{\\_BcWy} & \\texttt{\\_BcWy} \\\\\n",
            "  2 & \\texttt{tNq35}  & \\texttt{Xw7Zj}  & \\texttt{hmVE7}  & \\texttt{hmVE7}  & \\texttt{1HM81}  & \\texttt{mzL0z}  & \\texttt{mzL0z}  \\\\\n",
            "  3 & \\texttt{hmVE7}  & \\texttt{1HM81}  & \\texttt{tNq35}  & \\texttt{tNq35}  & \\texttt{mzL0z}  & \\texttt{Xw7Zj}  & \\texttt{1HM81}  \\\\\n",
            "  4 & \\texttt{LO\\_YM} & \\texttt{mzL0z}  & \\texttt{CfX4s}  & \\texttt{CfX4s}  & \\texttt{Xw7Zj}  & \\texttt{1HM81}  & \\texttt{Xw7Zj}  \\\\\n",
            "  5 & \\texttt{xqS2P}  & \\texttt{ouODo}  & \\texttt{bdIue}  & \\texttt{bdIue}  & \\texttt{Hxx8F}  & \\texttt{2iS1v}  & \\texttt{Hxx8F}  \\\\\n",
            "\\hline\n",
            "\\end{tabular}\n"
          ]
        }
      ]
    },
    {
      "cell_type": "code",
      "source": [
        "ranks = np.stack([a[\"order\"] for a in results.values()])\n",
        "\n",
        "sim = [[None for _ in results.keys()] for _ in results.keys()]\n",
        "for i, d1 in enumerate(results.values()):\n",
        "    for j, d2 in enumerate(results.values()):\n",
        "        sim[i][j] = f\"${spearmanr(d1['ranking'], d2['ranking']).statistic:.3f}$\"\n",
        "\n",
        "print(tabulate(([rank] + list(row) for rank, row in zip(results.keys(), sim)), results.keys(), tablefmt=\"latex_raw\"))"
      ],
      "metadata": {
        "colab": {
          "base_uri": "https://localhost:8080/"
        },
        "id": "ONeicoBbFUG0",
        "outputId": "045c81be-46a6-4b13-8578-ee57b7593b39"
      },
      "id": "ONeicoBbFUG0",
      "execution_count": null,
      "outputs": [
        {
          "output_type": "stream",
          "name": "stdout",
          "text": [
            "\\begin{tabular}{llllllll}\n",
            "\\hline\n",
            "               & Degree   & PageRank   & HITS (hub)   & HITS (auth)   & TsPR (funny)   & TsPR (cool)   & TsPR (useful)   \\\\\n",
            "\\hline\n",
            " Degree        & $1.000$  & $0.720$    & $0.804$      & $0.804$       & $0.714$        & $0.723$       & $0.716$         \\\\\n",
            " PageRank      & $0.720$  & $1.000$    & $0.380$      & $0.380$       & $0.703$        & $0.711$       & $0.715$         \\\\\n",
            " HITS (hub)    & $0.804$  & $0.380$    & $1.000$      & $1.000$       & $0.517$        & $0.509$       & $0.509$         \\\\\n",
            " HITS (auth)   & $0.804$  & $0.380$    & $1.000$      & $1.000$       & $0.516$        & $0.509$       & $0.508$         \\\\\n",
            " TsPR (funny)  & $0.714$  & $0.703$    & $0.517$      & $0.516$       & $1.000$        & $0.921$       & $0.938$         \\\\\n",
            " TsPR (cool)   & $0.723$  & $0.711$    & $0.509$      & $0.509$       & $0.921$        & $1.000$       & $0.943$         \\\\\n",
            " TsPR (useful) & $0.716$  & $0.715$    & $0.509$      & $0.508$       & $0.938$        & $0.943$       & $1.000$         \\\\\n",
            "\\hline\n",
            "\\end{tabular}\n"
          ]
        }
      ]
    },
    {
      "cell_type": "code",
      "source": [
        "keys = [\"Degree\", \"PageRank\", \"HITS (hub)\", \"HITS (auth)\", \"TsPR (funny)\", \"TsPR (cool)\", \"TsPR (useful)\"]\n",
        "sim = np.array([ \\\n",
        "    [1.000, 0.720, 0.804, 0.804, 0.714, 0.723, 0.716], \\\n",
        "    [0.720, 1.000, 0.380, 0.380, 0.703, 0.711, 0.715], \\\n",
        "    [0.804, 0.380, 1.000, 1.000, 0.517, 0.509, 0.509], \\\n",
        "    [0.804, 0.380, 1.000, 1.000, 0.516, 0.509, 0.508], \\\n",
        "    [0.714, 0.703, 0.517, 0.516, 1.000, 0.921, 0.938], \\\n",
        "    [0.723, 0.711, 0.509, 0.509, 0.921, 1.000, 0.943], \\\n",
        "    [0.716, 0.715, 0.509, 0.508, 0.938, 0.943, 1.000]])\n",
        "\n",
        "pp = PdfPages('plots/sim.pdf')\n",
        "\n",
        "fig, ax = plt.subplots()\n",
        "im = ax.imshow(sim, cmap=\"winter\")\n",
        "\n",
        "ax.set_xticks(np.arange(len(keys)), labels=keys)\n",
        "ax.set_yticks(np.arange(len(keys)), labels=keys)\n",
        "\n",
        "plt.setp(ax.get_xticklabels(), rotation=45, ha=\"right\", rotation_mode=\"anchor\")\n",
        "\n",
        "for i in range(len(keys)):\n",
        "    for j in range(len(keys)):\n",
        "        text = ax.text(j, i, sim[i, j], ha=\"center\", va=\"center\", color=\"w\")\n",
        "\n",
        "ax.set_title(\"Similarity between rankings\")\n",
        "fig.tight_layout()\n",
        "\n",
        "pp.savefig()\n",
        "pp.close()\n",
        "plt.show()"
      ],
      "metadata": {
        "id": "QBz6OBIanPHW",
        "colab": {
          "base_uri": "https://localhost:8080/",
          "height": 487
        },
        "outputId": "8a1c2e4a-e610-4c10-c539-5062ac2877cd"
      },
      "id": "QBz6OBIanPHW",
      "execution_count": 16,
      "outputs": [
        {
          "output_type": "display_data",
          "data": {
            "text/plain": [
              "<Figure size 640x480 with 1 Axes>"
            ],
            "image/png": "[encoded data removed]"
          },
          "metadata": {}
        }
      ]
    }
  ],
  "metadata": {
    "colab": {
      "provenance": []
    },
    "kernelspec": {
      "display_name": "Python 3",
      "language": "python",
      "name": "python3"
    },
    "language_info": {
      "codemirror_mode": {
        "name": "ipython",
        "version": 3
      },
      "file_extension": ".py",
      "mimetype": "text/x-python",
      "name": "python",
      "nbconvert_exporter": "python",
      "pygments_lexer": "ipython3",
      "version": "3.7.12"
    },
    "papermill": {
      "default_parameters": {},
      "duration": 195.237305,
      "end_time": "2023-05-11T15:58:43.682897",
      "environment_variables": {},
      "exception": null,
      "input_path": "__notebook__.ipynb",
      "output_path": "__notebook__.ipynb",
      "parameters": {},
      "start_time": "2023-05-11T15:55:28.445592",
      "version": "2.3.3"
    }
  },
  "nbformat": 4,
  "nbformat_minor": 5
}